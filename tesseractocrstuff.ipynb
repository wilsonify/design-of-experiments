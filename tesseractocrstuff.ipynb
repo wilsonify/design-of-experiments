{
 "cells": [
  {
   "cell_type": "code",
   "execution_count": 7,
   "metadata": {},
   "outputs": [],
   "source": [
    "from PIL import Image\n",
    "import pytesseract"
   ]
  },
  {
   "cell_type": "code",
   "execution_count": 23,
   "metadata": {},
   "outputs": [],
   "source": [
    "basewidth = 1000\n",
    "img = Image.open('images/semester_project_problem2-2.png')\n",
    "#wpercent = (basewidth/float(img.size[0]))\n",
    "#hsize = int((float(img.size[1])*float(wpercent)))\n",
    "#img = img.resize((basewidth,hsize), Image.ANTIALIAS)\n",
    "#img.save('images/semester_project_problem1_resize.png')"
   ]
  },
  {
   "cell_type": "code",
   "execution_count": 24,
   "metadata": {},
   "outputs": [
    {
     "data": {
      "text/plain": [
       "'Replicate\\n\\n \\n\\n‘Treatment —\\n\\nA B c D___Combination I i\\n- - - - qa 7.037 6.376\\n+ - - - a 14.707 15.219\\n+ - - b 11.635, 12.089\\n+ + - - ab 17.273 17.815\\n- - + - c 10.403 10.151\\n+ - + - ac 4.368 4.098\\n- + + - be 9.360 9.253\\n+ + + - abe 13.440 12.923\\n- - + d 8.561 8.951\\n+ - - + ad 16.867 17.052\\n- + - + bd 13.876 13.658\\n+ + - + abd 19.824 19.639\\n- - + + cd 11846 12.337\\n+ - + + acd 6.125 5.904\\n- + + bed 11.190 10.935\\n+ + + + abed 15.653 15.053\\n\\n \\n\\n(a) Estimate the factor effects, Which factor effects appear to be large?\\n\\n() Conduct an analysis of variance. Do any of the factors affect cracking? Use a =\\n0.05.\\n\\n(©) Write down a regression model that can be used to predict crack length as a function.\\nof the significant main effects and interactions you have identified in part (b).\\n\\n(4) Analyze the residuals from this experiment.\\n\\n(e) Is there an indication that any of the factors affect the variability in cracking?\\n\\n(f) What recommendations would you make regarding process operations? Use inter-\\naction and/or main effect plots to assist in drawing conclusions.'"
      ]
     },
     "execution_count": 24,
     "metadata": {},
     "output_type": "execute_result"
    }
   ],
   "source": [
    "pytesseract.image_to_string(img,\n",
    "                            lang='eng',                            \n",
    "                            #config='--psm 10 --eom 3 -c tessedit_char_whitelist=€0123456789'\n",
    "                           )"
   ]
  },
  {
   "cell_type": "code",
   "execution_count": null,
   "metadata": {},
   "outputs": [],
   "source": []
  }
 ],
 "metadata": {
  "kernelspec": {
   "display_name": "Python 3",
   "language": "python",
   "name": "python3"
  },
  "language_info": {
   "codemirror_mode": {
    "name": "ipython",
    "version": 3
   },
   "file_extension": ".py",
   "mimetype": "text/x-python",
   "name": "python",
   "nbconvert_exporter": "python",
   "pygments_lexer": "ipython3",
   "version": "3.6.7"
  }
 },
 "nbformat": 4,
 "nbformat_minor": 2
}
