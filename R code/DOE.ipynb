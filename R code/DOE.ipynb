{
 "cells": [
  {
   "cell_type": "code",
   "execution_count": null,
   "metadata": {},
   "outputs": [],
   "source": [
    "install.packages('daewr'\n",
    "                 ,'gmodels'\n",
    "                 ,'MASS'\n",
    "                )"
   ]
  },
  {
   "cell_type": "code",
   "execution_count": 1,
   "metadata": {},
   "outputs": [],
   "source": [
    "set.seed(7638)\n",
    "f <- factor( rep( c(35, 40, 45 ), each = 4))\n",
    "fac <- sample( f, 12 )\n",
    "eu <- 1:12\n",
    "plan <- data.frame( loaf=eu, time=fac )\n",
    "write.csv( plan, file = \"Plan.csv\", row.names = FALSE)"
   ]
  },
  {
   "cell_type": "code",
   "execution_count": 3,
   "metadata": {},
   "outputs": [],
   "source": [
    "bread <- read.csv(\"Plan.csv\")"
   ]
  },
  {
   "cell_type": "code",
   "execution_count": 6,
   "metadata": {},
   "outputs": [
    {
     "ename": "ERROR",
     "evalue": "Error in library(daewr): there is no package called ‘daewr’\n",
     "output_type": "error",
     "traceback": [
      "Error in library(daewr): there is no package called ‘daewr’\nTraceback:\n",
      "1. library(daewr)",
      "2. stop(txt, domain = NA)"
     ]
    }
   ],
   "source": [
    "library(daewr )\n",
    "mod0 <- lm( height ~ time, data = bread )\n",
    "summary( mod0 )"
   ]
  },
  {
   "cell_type": "code",
   "execution_count": 5,
   "metadata": {},
   "outputs": [
    {
     "name": "stderr",
     "output_type": "stream",
     "text": [
      "Installing package into ‘/home/thom/R/x86_64-pc-linux-gnu-library/3.4’\n",
      "(as ‘lib’ is unspecified)\n",
      "also installing the dependencies ‘gmp’, ‘polynom’, ‘conf.design’, ‘combinat’, ‘numbers’, ‘partitions’, ‘DoE.base’, ‘sfsmisc’, ‘scatterplot3d’, ‘igraph’, ‘FrF2’, ‘BsMD’\n",
      "\n",
      "Warning message in install.packages(\"daewr\"):\n",
      "“installation of package ‘igraph’ had non-zero exit status”Warning message in install.packages(\"daewr\"):\n",
      "“installation of package ‘BsMD’ had non-zero exit status”Warning message in install.packages(\"daewr\"):\n",
      "“installation of package ‘FrF2’ had non-zero exit status”Warning message in install.packages(\"daewr\"):\n",
      "“installation of package ‘daewr’ had non-zero exit status”"
     ]
    }
   ],
   "source": [
    "library(gmodels)\n",
    "> fit.contrast( mod0, \"time\", c(1, -1,0) )"
   ]
  },
  {
   "cell_type": "code",
   "execution_count": null,
   "metadata": {},
   "outputs": [],
   "source": [
    "mod1 <- aov( height ~ time, data = bread )\n",
    "> summary(mod1)"
   ]
  },
  {
   "cell_type": "code",
   "execution_count": null,
   "metadata": {},
   "outputs": [],
   "source": [
    "par( mfrow = c(2,2) )\n",
    "plot(mod1, which=5)\n",
    "plot(mod1, which=1)\n",
    "plot(mod1, which=2)\n",
    "plot(residuals(mod1) ~ loaf, main=\"Residuals vs Exp. Unit\",\n",
    "font.main=1,data=bread)\n",
    "abline(h = 0, lty = 2)"
   ]
  },
  {
   "cell_type": "code",
   "execution_count": null,
   "metadata": {},
   "outputs": [],
   "source": [
    "library(MASS)\n",
    "bc <- boxcox(mod1)\n",
    "lambda <- bc$x[which.max(bc$y)]\n",
    "lambda"
   ]
  },
  {
   "cell_type": "code",
   "execution_count": null,
   "metadata": {},
   "outputs": [],
   "source": [
    "tbread <- transform(bread, theight = height^(-.5050505))\n",
    "mod2 <- aov( theight~time, data = tbread )\n",
    "summary(mod2)"
   ]
  },
  {
   "cell_type": "code",
   "execution_count": null,
   "metadata": {},
   "outputs": [],
   "source": [
    "with(bread, { std <- tapply(height, time, sd)\n",
    "             weights <- rep( 1/std, each = 4 )\n",
    "             mod3 <- lm( height ~ time, weights = weights, data = bread )\n",
    "             anova( mod3 )\n",
    "            })\n"
   ]
  },
  {
   "cell_type": "code",
   "execution_count": null,
   "metadata": {},
   "outputs": [],
   "source": [
    "library(daewr)\n",
    "library(MASS)\n",
    "modf <- polr( score ~ method, weight = count, data=teach)\n",
    "modr <- polr( score ~ 1, weight = count, data = teach)\n",
    "anova(modf,modr)"
   ]
  },
  {
   "cell_type": "code",
   "execution_count": null,
   "metadata": {},
   "outputs": [],
   "source": [
    "library(daewr)\n",
    "rmin <-2 #smallest number of replicates considered\n",
    "rmax <-6 # largest number of replicates considered\n",
    "alpha <- rep(0.05, rmax - rmin +1)\n",
    "sigma <-sqrt(2.1)\n",
    "nlev <- 3\n",
    "nreps <- rmin:rmax\n",
    "Delta <- 3\n",
    "power <- Fpower1(alpha,nlev,nreps,Delta,sigma)\n",
    "power"
   ]
  },
  {
   "cell_type": "code",
   "execution_count": null,
   "metadata": {},
   "outputs": [],
   "source": [
    "library(daewr)\n",
    "mod4 <- aov( yield ~ treat, data = sugarbeet )\n",
    "con <- matrix(c(1, -1/3, -1/3, -1/3, 0, 1, -1, 0,\n",
    "0, 0, 1, -1 ), 4, 3 )\n",
    "L <- t(con)\n",
    "rownames(L) <- c(\"-fertilizer effect\", \"-plowed vs. broadcast\"\n",
    ", \"-January vs. April\")\n",
    "L"
   ]
  },
  {
   "cell_type": "code",
   "execution_count": null,
   "metadata": {},
   "outputs": [],
   "source": [
    "options(digits = 3)\n",
    "library(gmodels)\n",
    "fit.contrast( mod4, \"treat\", L)"
   ]
  },
  {
   "cell_type": "code",
   "execution_count": null,
   "metadata": {},
   "outputs": [],
   "source": [
    "contrasts(bread$time) <- contr.poly(3)\n",
    "contrasts(bread$time)\n"
   ]
  },
  {
   "cell_type": "code",
   "execution_count": null,
   "metadata": {},
   "outputs": [],
   "source": [
    "mod3 <- aov( height ~ time, bread )\n",
    "summary.lm(mod3)"
   ]
  },
  {
   "cell_type": "code",
   "execution_count": 7,
   "metadata": {},
   "outputs": [
    {
     "ename": "ERROR",
     "evalue": "Error in terms.formula(formula, \"Error\", data = data): object 'sugarbeet' not found\n",
     "output_type": "error",
     "traceback": [
      "Error in terms.formula(formula, \"Error\", data = data): object 'sugarbeet' not found\nTraceback:\n",
      "1. aov(yield ~ treat, data = sugarbeet)",
      "2. terms(formula, \"Error\", data = data)",
      "3. terms.formula(formula, \"Error\", data = data)"
     ]
    }
   ],
   "source": [
    "mod4 <- aov( yield ~ treat, data = sugarbeet )\n",
    "mod4.tukey <- TukeyHSD( mod4, ordered = T )\n",
    "mod4.tukey"
   ]
  },
  {
   "cell_type": "code",
   "execution_count": null,
   "metadata": {},
   "outputs": [],
   "source": [
    "library(agricolae)\n",
    "> compare <- SNK.test( mod4, \"treat\", alpha = 0.05 )\n",
    "> print(compare)"
   ]
  },
  {
   "cell_type": "code",
   "execution_count": null,
   "metadata": {},
   "outputs": [],
   "source": [
    "summary(sugarbeet)"
   ]
  },
  {
   "cell_type": "code",
   "execution_count": null,
   "metadata": {},
   "outputs": [],
   "source": [
    "library(multcomp)\n",
    "sugar.dun<-glht(mod4,linfct = mcp(treat = \"Dunnett\"),\n",
    "alternative = \"greater\")\n",
    "summary(sugar.dun)"
   ]
  }
 ],
 "metadata": {
  "kernelspec": {
   "display_name": "R",
   "language": "R",
   "name": "ir"
  },
  "language_info": {
   "codemirror_mode": "r",
   "file_extension": ".r",
   "mimetype": "text/x-r-source",
   "name": "R",
   "pygments_lexer": "r",
   "version": "3.4.4"
  }
 },
 "nbformat": 4,
 "nbformat_minor": 2
}
